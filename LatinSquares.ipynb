{
 "cells": [
  {
   "cell_type": "markdown",
   "metadata": {},
   "source": [
    "### Goals\n",
    "\n",
    "1. Write a program that can create a list of all nxn latin squares, call it Ln. This is probably only computationally feasible up to around 6x6.\n",
    "2. Write a function that \"standardizes\" a latin square by permuting the symbols such that the first row of the square is in order, 1, 2, 3, ..., n. Call this function F()\n",
    "3. Work through the following algorithm, starting at 4x4 latin squares. 5x5 should also be possible, 6x6 maybe not. \n",
    "    - Select a latin square from Ln, call it Sj.\n",
    "    - Make a list of all latin squares that can be obtained from Sj by permuting the rows and columns, call this Aj.\n",
    "    - Count how many squares there are and how many of them are equal to Sj.\n",
    "    - Remove the squares in Aj from Ln and repeat a-c until there are none left. Count how many of these different \"classes\" there are and how big each class is.\n",
    "\n",
    "All of this could also be adjusted to standardize all the squares by F()."
   ]
  },
  {
   "cell_type": "markdown",
   "metadata": {},
   "source": [
    "### Misc Functions"
   ]
  },
  {
   "cell_type": "code",
   "execution_count": 5,
   "metadata": {},
   "outputs": [],
   "source": [
    "def print_square(square):\n",
    "    '''\n",
    "    Print squre row by row for better readability.\n",
    "    '''\n",
    "    for row in square:\n",
    "        print(row)\n",
    "    print()"
   ]
  },
  {
   "cell_type": "markdown",
   "metadata": {},
   "source": [
    "### 1. Generating Latin Squares"
   ]
  },
  {
   "cell_type": "code",
   "execution_count": null,
   "metadata": {},
   "outputs": [],
   "source": [
    "from itertools import permutations\n",
    "\n",
    "def Ln(n: int) -> list:\n",
    "    '''\n",
    "    Generates all Latin squares of order n.\n",
    "    '''\n",
    "    all_rows = list(permutations(range(1,n+1)))\n",
    "    squares = []\n",
    "\n",
    "    def backtrack(square, depth):\n",
    "        if depth == n:\n",
    "            squares.append([list(row) for row in square])\n",
    "            return\n",
    "        \n",
    "        for row in all_rows:\n",
    "            if all(row[col] not in used_in_col[col] for col in range(n)):\n",
    "                square.append(row)\n",
    "                for col in range(n):\n",
    "                    used_in_col[col].add(row[col])\n",
    "\n",
    "                backtrack(square, depth + 1)\n",
    "\n",
    "                for col in range(n):\n",
    "                    used_in_col[col].remove(row[col])\n",
    "                square.pop()\n",
    "    used_in_col = [set() for _ in range(n)]\n",
    "\n",
    "    backtrack([],0)\n",
    "    return squares\n",
    "\n",
    "def Ln_reduced(n: int,) -> list:\n",
    "    '''\n",
    "    Generates all reduced Latin squares of order n,\n",
    "    fixing the first row to [1, 2, ..., n].\n",
    "    This removes symmetries due to row permutations.\n",
    "    '''\n",
    "    all_rows = list(permutations(range(1, n + 1)))\n",
    "    squares = []\n",
    "\n",
    "    def backtrack(square, depth):\n",
    "        if depth == n:\n",
    "            squares.append(square[:])\n",
    "            return\n",
    "\n",
    "        for row in all_rows:\n",
    "            if all(row[col] not in used_in_col[col] for col in range(n)):\n",
    "                square.append(row)\n",
    "                for col in range(n):\n",
    "                    used_in_col[col].add(row[col])\n",
    "\n",
    "                backtrack(square, depth + 1)\n",
    "\n",
    "                for col in range(n):\n",
    "                    used_in_col[col].remove(row[col])\n",
    "                square.pop()\n",
    "\n",
    "    first_row = tuple(range(1, n + 1))\n",
    "    used_in_col = [set() for _ in range(n)]\n",
    "    for col in range(n):\n",
    "        used_in_col[col].add(first_row[col])  # track first row values\n",
    "        \n",
    "    backtrack([first_row], 1)\n",
    "    return squares\n",
    "    "
   ]
  },
  {
   "cell_type": "markdown",
   "metadata": {},
   "source": [
    "#### 1. Test Cases"
   ]
  },
  {
   "cell_type": "code",
   "execution_count": 77,
   "metadata": {},
   "outputs": [
    {
     "name": "stdout",
     "output_type": "stream",
     "text": [
      "Total latin square of order 3: 12\n",
      "Reduced latin square of order 3: 2\n"
     ]
    }
   ],
   "source": [
    "three_by_three_reduced = Ln_reduced(3) \n",
    "three_by_three = Ln(3)\n",
    "print(f\"Total latin square of order 3: {len(three_by_three)}\")\n",
    "print(f\"Reduced latin square of order 3: {len(three_by_three_reduced)}\")\n",
    "\n",
    "for square in three_by_three:\n",
    "    #print_square(square)\n",
    "    None"
   ]
  },
  {
   "cell_type": "code",
   "execution_count": 78,
   "metadata": {},
   "outputs": [
    {
     "name": "stdout",
     "output_type": "stream",
     "text": [
      "Total latin square of order 4: 576\n",
      "Reduced latin square of order 4: 24\n"
     ]
    }
   ],
   "source": [
    "four_by_four = Ln(4)\n",
    "four_by_four_reduced = Ln_reduced(4)\n",
    "print(f\"Total latin square of order 4: {len(four_by_four)}\")\n",
    "print(f\"Reduced latin square of order 4: {len(four_by_four_reduced)}\")\n",
    "for square in four_by_four:\n",
    "    #print_square(square)\n",
    "    None\n",
    "# 576 squares total\n",
    "# 24 reduced"
   ]
  },
  {
   "cell_type": "code",
   "execution_count": 79,
   "metadata": {},
   "outputs": [
    {
     "name": "stdout",
     "output_type": "stream",
     "text": [
      "Total latin square of order 5: 161280\n",
      "Reduced latin square of order 5: 1344\n"
     ]
    }
   ],
   "source": [
    "five_by_five = Ln(5)\n",
    "five_by_five_reduced = Ln_reduced(5)\n",
    "print(f\"Total latin square of order 5: {len(five_by_five)}\")\n",
    "print(f\"Reduced latin square of order 5: {len(five_by_five_reduced)}\")\n",
    "for square in five_by_five:\n",
    "    #print_square(square)\n",
    "    None\n",
    "# 161280 Squares\n",
    "# 1344 total"
   ]
  },
  {
   "cell_type": "code",
   "execution_count": null,
   "metadata": {},
   "outputs": [],
   "source": [
    "six_by_six = Ln(6)\n",
    "six_by_six_reduced = Ln_reduced(6)\n",
    "print(f\"Total latin square of order 6: {len(six_by_six)}\")\n",
    "print(f\"Total latin square of order 6: {len(six_by_six_reduced)}\")\n",
    "for square in six_by_six:\n",
    "    #print_square(square)\n",
    "    None"
   ]
  },
  {
   "cell_type": "markdown",
   "metadata": {},
   "source": [
    "### 2. \"Standardize\" Squares (Symmetry Reduction)"
   ]
  },
  {
   "cell_type": "code",
   "execution_count": null,
   "metadata": {},
   "outputs": [],
   "source": [
    "def Fn(square: list) -> list:\n",
    "    '''\n",
    "    Standardize a Latin square so that the first row is [1, 2, ..., n].\n",
    "    '''\n",
    "    first_row = square[0]\n",
    "\n",
    "    # Creates a mapping dict for standardization of square\n",
    "    row_mapping = {val: i + 1 for i, val in enumerate(first_row)}\n",
    "\n",
    "    # Apply the mapping to the entire square\n",
    "    standardized_square = [[row_mapping[val] for val in row] for row in square]\n",
    "\n",
    "    return standardized_square"
   ]
  },
  {
   "cell_type": "markdown",
   "metadata": {},
   "source": [
    "##### 2. Test Cases"
   ]
  },
  {
   "cell_type": "code",
   "execution_count": null,
   "metadata": {},
   "outputs": [
    {
     "name": "stdout",
     "output_type": "stream",
     "text": [
      "[1, 2, 3]\n",
      "[3, 1, 2]\n",
      "[2, 3, 1]\n",
      "\n",
      "[1, 2, 3, 4]\n",
      "[4, 1, 2, 3]\n",
      "[2, 3, 4, 1]\n",
      "[3, 4, 1, 2]\n",
      "\n",
      "[1, 2, 3, 4, 5]\n",
      "[2, 3, 4, 5, 1]\n",
      "[3, 4, 5, 1, 2]\n",
      "[4, 5, 1, 2, 3]\n",
      "[5, 1, 2, 3, 4]\n",
      "\n"
     ]
    }
   ],
   "source": [
    "square1 = [\n",
    "    [3, 1, 2],\n",
    "    [2, 3, 1],\n",
    "    [1, 2, 3]\n",
    "]\n",
    "\n",
    "''' \n",
    "Expected output:\n",
    "    [1, 2, 3],\n",
    "    [3, 1, 2], \n",
    "    [2, 3, 1] ] \n",
    "'''\n",
    "\n",
    "square2 = [\n",
    "    [4, 1, 3, 2],\n",
    "    [2, 4, 1, 3],\n",
    "    [1, 3, 2, 4],\n",
    "    [3, 2, 4, 1]\n",
    "]\n",
    "\n",
    "''' \n",
    "Expected output:\n",
    "    [1, 2, 3, 4],\n",
    "    [4, 1, 2, 3],\n",
    "    [2, 3, 4, 1],\n",
    "    [3, 4, 1, 2] \n",
    "'''\n",
    "\n",
    "square3 = [\n",
    "    [1, 2, 3, 4, 5],\n",
    "    [2, 3, 4, 5, 1],\n",
    "    [3, 4, 5, 1, 2],\n",
    "    [4, 5, 1, 2, 3],\n",
    "    [5, 1, 2, 3, 4]\n",
    "]\n",
    "'''\n",
    "Already \"standardized,\" expected output = input\n",
    "'''\n",
    "\n",
    "for i in [square1, square2, square3]:\n",
    "    result = Fn(i)\n",
    "    print_square(result)"
   ]
  },
  {
   "cell_type": "markdown",
   "metadata": {},
   "source": [
    "### 3. Main Algorithm"
   ]
  },
  {
   "cell_type": "code",
   "execution_count": null,
   "metadata": {},
   "outputs": [
    {
     "name": "stdout",
     "output_type": "stream",
     "text": [
      "1\n"
     ]
    }
   ],
   "source": [
    "def main():\n",
    "    '''\n",
    "    Selects a latin square from Ln, Sj.\n",
    "    Permutes the rows and columns, creates list of Sj's orbits & Stabalizers, Aj.\n",
    "    Count how many squares in Aj are stabalizers.\n",
    "    Remove stabalizers ffrom Ln and repeat until Ln is empty. \n",
    "    Count how many of these different \"classes\" there are and how big each class is.\n",
    "    '''\n",
    "    return 1\n",
    "\n",
    "if __name__ == \"__main__\":\n",
    "     main()"
   ]
  }
 ],
 "metadata": {
  "kernelspec": {
   "display_name": "Python 3",
   "language": "python",
   "name": "python3"
  },
  "language_info": {
   "codemirror_mode": {
    "name": "ipython",
    "version": 3
   },
   "file_extension": ".py",
   "mimetype": "text/x-python",
   "name": "python",
   "nbconvert_exporter": "python",
   "pygments_lexer": "ipython3",
   "version": "3.12.0"
  }
 },
 "nbformat": 4,
 "nbformat_minor": 2
}
