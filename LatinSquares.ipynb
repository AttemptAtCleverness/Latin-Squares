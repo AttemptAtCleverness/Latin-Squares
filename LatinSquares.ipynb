{
 "cells": [
  {
   "cell_type": "markdown",
   "metadata": {},
   "source": [
    "### Goals\n",
    "\n",
    "1. Write a program that can create a list of all nxn latin squares, call it Ln. This is probably only computationally feasible up to around 6x6.\n",
    "2. Write a function that \"standardizes\" a latin square by permuting the symbols such that the first row of the square is in order, 1, 2, 3, ..., n. Call this function F()\n",
    "3. Work through the following algorithm, starting at 4x4 latin squares. 5x5 should also be possible, 6x6 maybe not. \n",
    "    - Select a latin square from Ln, call it Sj.\n",
    "    - Make a list of all latin squares that can be obtained from Sj by permuting the rows and columns, call this Aj.\n",
    "    - Count how many squares there are and how many of them are equal to Sj.\n",
    "    - Remove the squares in Aj from Ln and repeat a-c until there are none left. Count how many of these different \"classes\" there are and how big each class is.\n",
    "\n",
    "All of this could also be adjusted to standardize all the squares by F()."
   ]
  },
  {
   "cell_type": "code",
   "execution_count": 1,
   "metadata": {},
   "outputs": [],
   "source": [
    "from itertools import permutations\n",
    "import random"
   ]
  },
  {
   "cell_type": "markdown",
   "metadata": {},
   "source": [
    "### Misc Functions"
   ]
  },
  {
   "cell_type": "code",
   "execution_count": 19,
   "metadata": {},
   "outputs": [],
   "source": [
    "def print_square(square):\n",
    "    '''\n",
    "    Print squre row by row for better readability.\n",
    "    '''\n",
    "    for row in square:\n",
    "        print(row)\n",
    "    print()"
   ]
  },
  {
   "cell_type": "markdown",
   "metadata": {},
   "source": [
    "### 1. Generating Latin Squares"
   ]
  },
  {
   "cell_type": "code",
   "execution_count": 20,
   "metadata": {},
   "outputs": [],
   "source": [
    "def Ln(n: int) -> list:\n",
    "    '''\n",
    "    Generates all Latin squares of order n.\n",
    "    '''\n",
    "    all_rows = list(permutations(range(1,n+1)))\n",
    "    squares = []\n",
    "\n",
    "    def backtrack(square, depth):\n",
    "        if depth == n:\n",
    "            squares.append([list(row) for row in square])\n",
    "            return\n",
    "        \n",
    "        for row in all_rows:\n",
    "            if all(row[col] not in used_in_col[col] for col in range(n)):\n",
    "                square.append(row)\n",
    "                for col in range(n):\n",
    "                    used_in_col[col].add(row[col])\n",
    "\n",
    "                backtrack(square, depth + 1)\n",
    "\n",
    "                for col in range(n):\n",
    "                    used_in_col[col].remove(row[col])\n",
    "                square.pop()\n",
    "    used_in_col = [set() for _ in range(n)]\n",
    "\n",
    "    backtrack([],0)\n",
    "    return squares\n",
    "\n",
    "def Ln_reduced(n: int,) -> list:\n",
    "    '''\n",
    "    Generates all reduced Latin squares of order n,\n",
    "    fixing the first row to [1, 2, ..., n].\n",
    "    This removes symmetries due to row permutations.\n",
    "    '''\n",
    "    all_rows = list(permutations(range(1, n + 1)))\n",
    "    squares = []\n",
    "\n",
    "    def backtrack(square, depth):\n",
    "        if depth == n:\n",
    "            squares.append(square[:])\n",
    "            return\n",
    "\n",
    "        for row in all_rows:\n",
    "            if all(row[col] not in used_in_col[col] for col in range(n)):\n",
    "                square.append(row)\n",
    "                for col in range(n):\n",
    "                    used_in_col[col].add(row[col])\n",
    "\n",
    "                backtrack(square, depth + 1)\n",
    "\n",
    "                for col in range(n):\n",
    "                    used_in_col[col].remove(row[col])\n",
    "                square.pop()\n",
    "\n",
    "    first_row = tuple(range(1, n + 1))\n",
    "    used_in_col = [set() for _ in range(n)]\n",
    "    for col in range(n):\n",
    "        used_in_col[col].add(first_row[col])  # track first row values\n",
    "        \n",
    "    backtrack([first_row], 1)\n",
    "    return squares\n",
    "    "
   ]
  },
  {
   "cell_type": "markdown",
   "metadata": {},
   "source": [
    "#### 1. Test Cases"
   ]
  },
  {
   "cell_type": "code",
   "execution_count": 5,
   "metadata": {},
   "outputs": [
    {
     "name": "stdout",
     "output_type": "stream",
     "text": [
      "Total latin square of order 3: 12\n",
      "Reduced latin square of order 3: 2\n"
     ]
    }
   ],
   "source": [
    "three_by_three_reduced = Ln_reduced(3) \n",
    "three_by_three = Ln(3)\n",
    "print(f\"Total latin square of order 3: {len(three_by_three)}\")\n",
    "print(f\"Reduced latin square of order 3: {len(three_by_three_reduced)}\")\n",
    "\n",
    "for square in three_by_three:\n",
    "    #print_square(square)\n",
    "    continue"
   ]
  },
  {
   "cell_type": "code",
   "execution_count": 21,
   "metadata": {},
   "outputs": [
    {
     "name": "stdout",
     "output_type": "stream",
     "text": [
      "Total latin square of order 4: 576\n",
      "Reduced latin square of order 4: 24\n"
     ]
    }
   ],
   "source": [
    "four_by_four = Ln(4)\n",
    "four_by_four_reduced = Ln_reduced(4)\n",
    "print(f\"Total latin square of order 4: {len(four_by_four)}\")\n",
    "print(f\"Reduced latin square of order 4: {len(four_by_four_reduced)}\")\n",
    "for square in four_by_four:\n",
    "    #print_square(square)\n",
    "    continue\n",
    "# 576 squares total\n",
    "# 24 reduced"
   ]
  },
  {
   "cell_type": "code",
   "execution_count": 7,
   "metadata": {},
   "outputs": [
    {
     "name": "stdout",
     "output_type": "stream",
     "text": [
      "Total latin square of order 5: 161280\n",
      "Reduced latin square of order 5: 1344\n"
     ]
    }
   ],
   "source": [
    "five_by_five = Ln(5)\n",
    "five_by_five_reduced = Ln_reduced(5)\n",
    "print(f\"Total latin square of order 5: {len(five_by_five)}\")\n",
    "print(f\"Reduced latin square of order 5: {len(five_by_five_reduced)}\")\n",
    "for square in five_by_five:\n",
    "    #print_square(square)\n",
    "    continue\n",
    "# 161280 Squares\n",
    "# 1344 total"
   ]
  },
  {
   "cell_type": "code",
   "execution_count": null,
   "metadata": {},
   "outputs": [],
   "source": [
    "six_by_six = Ln(6)\n",
    "six_by_six_reduced = Ln_reduced(6)\n",
    "print(f\"Total latin square of order 6: {len(six_by_six)}\")\n",
    "print(f\"Total latin square of order 6: {len(six_by_six_reduced)}\")\n",
    "for square in six_by_six:\n",
    "    #print_square(square)\n",
    "    continue"
   ]
  },
  {
   "cell_type": "markdown",
   "metadata": {},
   "source": [
    "### 2. \"Standardize\" Squares (Symmetry Reduction)"
   ]
  },
  {
   "cell_type": "code",
   "execution_count": 8,
   "metadata": {},
   "outputs": [],
   "source": [
    "def Fn(square: list) -> list:\n",
    "    '''\n",
    "    Standardize a Latin square so that the first row is [1, 2, ..., n].\n",
    "    '''\n",
    "    first_row = square[0]\n",
    "\n",
    "    # Creates a mapping dict for standardization of square\n",
    "    row_mapping = {val: i + 1 for i, val in enumerate(first_row)}\n",
    "\n",
    "    # Apply the mapping to the entire square\n",
    "    standardized_square = [[row_mapping[val] for val in row] for row in square]\n",
    "\n",
    "    return standardized_square"
   ]
  },
  {
   "cell_type": "markdown",
   "metadata": {
    "jp-MarkdownHeadingCollapsed": true
   },
   "source": [
    "##### 2. Test Cases"
   ]
  },
  {
   "cell_type": "code",
   "execution_count": null,
   "metadata": {},
   "outputs": [
    {
     "name": "stdout",
     "output_type": "stream",
     "text": [
      "[1, 2, 3]\n",
      "[3, 1, 2]\n",
      "[2, 3, 1]\n",
      "\n",
      "[1, 2, 3, 4]\n",
      "[4, 1, 2, 3]\n",
      "[2, 3, 4, 1]\n",
      "[3, 4, 1, 2]\n",
      "\n",
      "[1, 2, 3, 4, 5]\n",
      "[2, 3, 4, 5, 1]\n",
      "[3, 4, 5, 1, 2]\n",
      "[4, 5, 1, 2, 3]\n",
      "[5, 1, 2, 3, 4]\n",
      "\n"
     ]
    }
   ],
   "source": [
    "square1 = [\n",
    "    [3, 1, 2],\n",
    "    [2, 3, 1],\n",
    "    [1, 2, 3]\n",
    "]\n",
    "\n",
    "''' \n",
    "Expected output:\n",
    "    [1, 2, 3],\n",
    "    [3, 1, 2], \n",
    "    [2, 3, 1] ] \n",
    "'''\n",
    "\n",
    "square2 = [\n",
    "    [4, 1, 3, 2],\n",
    "    [2, 4, 1, 3],\n",
    "    [1, 3, 2, 4],\n",
    "    [3, 2, 4, 1]\n",
    "]\n",
    "\n",
    "''' \n",
    "Expected output:\n",
    "    [1, 2, 3, 4],\n",
    "    [4, 1, 2, 3],\n",
    "    [2, 3, 4, 1],\n",
    "    [3, 4, 1, 2] \n",
    "'''\n",
    "\n",
    "square3 = [\n",
    "    [1, 2, 3, 4, 5],\n",
    "    [2, 3, 4, 5, 1],\n",
    "    [3, 4, 5, 1, 2],\n",
    "    [4, 5, 1, 2, 3],\n",
    "    [5, 1, 2, 3, 4]\n",
    "]\n",
    "'''\n",
    "Already \"standardized,\" expected output = input\n",
    "'''\n",
    "\n",
    "for i in [square1, square2, square3]:\n",
    "    result = Fn(i)\n",
    "    print_square(result)"
   ]
  },
  {
   "cell_type": "markdown",
   "metadata": {},
   "source": [
    "### 3. Main Algorithm"
   ]
  },
  {
   "cell_type": "markdown",
   "metadata": {},
   "source": [
    "#### Permutation Functions"
   ]
  },
  {
   "cell_type": "code",
   "execution_count": 9,
   "metadata": {},
   "outputs": [],
   "source": [
    "def row_col_permutations(square: list) -> list:\n",
    "    '''\n",
    "    Generate all Latin squares by permuting rows and columns of the given square.\n",
    "    Returns a list of all Latin squares generated for row/column permutations of passed square.\n",
    "    '''\n",
    "    n = len(square)\n",
    "    perms = set()\n",
    "\n",
    "    for row_perm in permutations(range(n)):\n",
    "        # Apply row permutation\n",
    "        permuted_rows = [square[i] for i in row_perm]\n",
    "\n",
    "        for col_perm in permutations(range(n)):\n",
    "            # Apply column permutation to each row\n",
    "            permuted_square = [\n",
    "                [row[j] for j in col_perm]\n",
    "                for row in permuted_rows\n",
    "            ]\n",
    "            # Convert to tuple of tuples for hashing\n",
    "            perms.add(tuple(tuple(row) for row in permuted_square))\n",
    "\n",
    "    # Return list of unique permutations\n",
    "    return [ [list(row) for row in square] for square in perms ]\n"
   ]
  },
  {
   "cell_type": "code",
   "execution_count": 10,
   "metadata": {},
   "outputs": [],
   "source": [
    "def symbol_permutations(square:list , mapping: dict) -> list:\n",
    "    '''\n",
    "    Applies a symbol permutation to a Latin square.\n",
    "\n",
    "    parameters:\n",
    "        symbol_perm (dict): A mapping from original symbol to new symbol.\n",
    "    '''\n",
    "    return [[mapping[val] for val in row] for row in square]"
   ]
  },
  {
   "cell_type": "code",
   "execution_count": 11,
   "metadata": {},
   "outputs": [],
   "source": [
    "def all_symbol_permutations(square:list) -> list:\n",
    "    '''\n",
    "    Generates all unique Latin squares via symbol permutations.\n",
    "    '''\n",
    "    n = len(square)\n",
    "    perms = permutations(range(1, n + 1))\n",
    "    seen = set()\n",
    "    unique_squares = []\n",
    "\n",
    "    for p in perms:\n",
    "        mapping = {old: new for old, new in zip(range(1, n + 1), p)}\n",
    "        permuted = symbol_permutations(square, mapping)\n",
    "        flat = tuple(tuple(row) for row in permuted)\n",
    "        if flat not in seen:\n",
    "            seen.add(flat)\n",
    "            unique_squares.append(permuted)\n",
    "\n",
    "    return unique_squares"
   ]
  },
  {
   "cell_type": "code",
   "execution_count": null,
   "metadata": {},
   "outputs": [],
   "source": [
    "def isotopy(n:int):\n",
    "    '''\n",
    "    Finds isotopy classes (row/col/symbol permutations).\n",
    "    '''\n",
    "    # Get all Latin squares\n",
    "    squares = Ln(n)\n",
    "    # covert to tuples to store in set \n",
    "    remaining = set(tuple(map(tuple, square)) for square in squares)  # hashable form (immutable)\n",
    "    classes = []\n",
    "\n",
    "    row_perms = list(permutations(range(n))) # 0 - 3\n",
    "    col_perms = list(permutations(range(n))) # 0 - 3\n",
    "    sym_perms = list(permutations(range(1, n + 1))) # 1 - 4\n",
    "\n",
    "\n",
    "    while remaining:\n",
    "        # Pick an arbitrary square from remaining\n",
    "        Sj = random.choice(list(remaining))\n",
    "        Sj_matrix = [list(row) for row in Sj]\n",
    "\n",
    "        isotopy_class = set()\n",
    "\n",
    "        # Apply all triples (row_perm, col_perm, sym_perm) as the isotopy group action\n",
    "        for r_perm in row_perms:\n",
    "            for c_perm in col_perms:\n",
    "                for s_perm in sym_perms:\n",
    "                    # Create symbol mapping (dict) from original symbol to permuted symbol\n",
    "                    sym_map = {orig: new for orig, new in zip(range(1, n + 1), s_perm)}\n",
    "\n",
    "                    # Apply row permutation\n",
    "                    row_permuted = [Sj_matrix[r_perm[i]] for i in range(n)]\n",
    "\n",
    "                    # Apply column permutation\n",
    "                    col_permuted = [[row[c_perm[j]] for j in range(n)] for row in row_permuted]\n",
    "\n",
    "                    # Apply symbol permutation\n",
    "                    final = [[sym_map[val] for val in row] for row in col_permuted]\n",
    "\n",
    "                    isotopy_class.add(tuple(tuple(row) for row in final))\n",
    "\n",
    "        # Record the class\n",
    "        classes.append([list(map(list, square)) for square in isotopy_class])\n",
    "\n",
    "        # Remove entire isotopy class from remaining\n",
    "        remaining -= isotopy_class\n",
    "\n",
    "    class_sizes = [len(c) for c in classes]\n",
    "    return classes, class_sizes"
   ]
  },
  {
   "cell_type": "code",
   "execution_count": null,
   "metadata": {},
   "outputs": [],
   "source": [
    "def equivalence(n:int):\n",
    "    '''\n",
    "    Finds row/col equivalence classes.\n",
    "    '''\n",
    "    # Step 1: Generate latin squares of order n\n",
    "    squares = Ln(n)\n",
    "    # covert to tuples to store in set \n",
    "    remaining = set(tuple(map(tuple, square)) for square in squares)  # hashable form\n",
    "    classes = []\n",
    "\n",
    "    while remaining:\n",
    "        # Step 2: Pick an arbitrary square Sj from the remaining ones\n",
    "        Sj = random.choice(list(remaining))\n",
    "        Sj_matrix = [list(row) for row in Sj]  # convert back to list of lists\n",
    "        \n",
    "        # Step 3. Generate its equivalence class by row/column permutations\n",
    "        Aj = row_col_permutations(Sj_matrix)\n",
    "        Aj_set = set(tuple(map(tuple, square)) for square in Aj)\n",
    "        \n",
    "        # Step 4. Record the class\n",
    "        classes.append([list(map(list, square)) for square in Aj_set])\n",
    "        remaining -= Aj_set # Remove this entire class from the remaining pool\n",
    "\n",
    "\n",
    "    # Optionally, return sizes\n",
    "    class_sizes = [len(c) for c in classes]\n",
    "    return classes, class_sizes"
   ]
  },
  {
   "cell_type": "markdown",
   "metadata": {},
   "source": [
    "#### 3. Test Cases"
   ]
  },
  {
   "cell_type": "code",
   "execution_count": 78,
   "metadata": {},
   "outputs": [
    {
     "name": "stdout",
     "output_type": "stream",
     "text": [
      "Number of equivalence classes: 1\n",
      "Sizes of classes: [12]\n",
      "\n",
      "Number of isotopy classes: 1\n",
      "Sizes of classes: [12]\n",
      "\n",
      "Total squares covered: 12 & 12\n"
     ]
    }
   ],
   "source": [
    "eq_classes_3x3, eq_class_sizes_3x3 = equivalence(3)\n",
    "print(\"Number of equivalence classes:\", len(eq_classes_3x3))\n",
    "print(\"Sizes of classes:\", eq_class_sizes_3x3)\n",
    "print()\n",
    "isotopy_classes_3x3, isotopy_class_sizes_3x3 = isotopy(3)\n",
    "print(\"Number of isotopy classes:\", len(isotopy_classes_3x3))\n",
    "print(\"Sizes of classes:\", isotopy_class_sizes_3x3)\n",
    "\n",
    "print(\"\\nTotal squares covered:\", sum(eq_class_sizes_3x3), \"&\", sum(isotopy_class_sizes_3x3))\n",
    "\n"
   ]
  },
  {
   "cell_type": "code",
   "execution_count": 79,
   "metadata": {},
   "outputs": [
    {
     "name": "stdout",
     "output_type": "stream",
     "text": [
      "Number of equivalence classes: 4\n",
      "Sizes of classes: [144, 144, 144, 144]\n",
      "\n",
      "Number of isotopy classes: 2\n",
      "Sizes of classes: [144, 432]\n",
      "\n",
      "Total squares covered: 576 & 576\n"
     ]
    }
   ],
   "source": [
    "eq_classes_4x4, eq_class_sizes_4x4 = equivalence(4)\n",
    "print(\"Number of equivalence classes:\", len(eq_classes_4x4))\n",
    "print(\"Sizes of classes:\", eq_class_sizes_4x4)\n",
    "print()\n",
    "isotopy_classes_4x4, isotopy_class_sizes_4x4 = isotopy(4)\n",
    "print(\"Number of isotopy classes:\", len(isotopy_classes_4x4))\n",
    "print(\"Sizes of classes:\", isotopy_class_sizes_4x4)\n",
    "\n",
    "print(\"\\nTotal squares covered:\", sum(eq_class_sizes_4x4), \"&\", sum(isotopy_class_sizes_4x4))"
   ]
  },
  {
   "cell_type": "code",
   "execution_count": 80,
   "metadata": {},
   "outputs": [
    {
     "name": "stdout",
     "output_type": "stream",
     "text": [
      "Number of equivalence classes: 16\n",
      "Sizes of classes: [14400, 14400, 2880, 14400, 14400, 2880, 14400, 14400, 14400, 2880, 14400, 2880, 2880, 14400, 14400, 2880]\n",
      "\n",
      "Number of isotopy classes: 2\n",
      "Sizes of classes: [144000, 17280]\n",
      "\n",
      "Total squares covered: 161280 & 161280\n"
     ]
    }
   ],
   "source": [
    "eq_classes_5x5, eq_class_sizes_5x5 = equivalence(5)\n",
    "print(\"Number of equivalence classes:\", len(eq_classes_5x5))\n",
    "print(\"Sizes of classes:\", eq_class_sizes_5x5)\n",
    "print()\n",
    "isotopy_classes_5x5, isotopy_class_sizes_5x5 = isotopy(5)\n",
    "print(\"Number of isotopy classes:\", len(isotopy_classes_5x5))\n",
    "print(\"Sizes of classes:\", isotopy_class_sizes_5x5)\n",
    "\n",
    "print(\"\\nTotal squares covered:\", sum(eq_class_sizes_5x5), \"&\", sum(isotopy_class_sizes_5x5))"
   ]
  },
  {
   "cell_type": "code",
   "execution_count": null,
   "metadata": {},
   "outputs": [],
   "source": []
  }
 ],
 "metadata": {
  "kernelspec": {
   "display_name": "Python 3 (ipykernel)",
   "language": "python",
   "name": "python3"
  },
  "language_info": {
   "codemirror_mode": {
    "name": "ipython",
    "version": 3
   },
   "file_extension": ".py",
   "mimetype": "text/x-python",
   "name": "python",
   "nbconvert_exporter": "python",
   "pygments_lexer": "ipython3",
   "version": "3.12.0"
  }
 },
 "nbformat": 4,
 "nbformat_minor": 4
}
